{
 "cells": [
  {
   "cell_type": "code",
   "execution_count": 18,
   "metadata": {},
   "outputs": [],
   "source": [
    "import pandas as pd\n",
    "import numpy as np\n",
    "import matplotlib.pyplot as plt\n",
    "import sklearn\n",
    "from sklearn.svm import LinearSVR\n",
    "from sklearn.model_selection import train_test_split\n",
    "from sklearn import metrics\n"
   ]
  },
  {
   "cell_type": "code",
   "execution_count": 19,
   "metadata": {},
   "outputs": [],
   "source": [
    "data=pd.read_csv('pgh_train.csv')"
   ]
  },
  {
   "cell_type": "code",
   "execution_count": 20,
   "metadata": {},
   "outputs": [],
   "source": [
    "X=data.iloc[:,[0,1,2,3,5,6]].values\n",
    "y=data.iloc[:,4].values # speed (Observed average speed over the segment at that time)\n",
    "#X\n",
    "#Y"
   ]
  },
  {
   "cell_type": "code",
   "execution_count": 21,
   "metadata": {},
   "outputs": [
    {
     "name": "stderr",
     "output_type": "stream",
     "text": [
      "C:\\Users\\HP\\AppData\\Roaming\\Python\\Python37\\site-packages\\sklearn\\utils\\deprecation.py:58: DeprecationWarning: Class Imputer is deprecated; Imputer was deprecated in version 0.20 and will be removed in 0.22. Import impute.SimpleImputer from sklearn instead.\n",
      "  warnings.warn(msg, category=DeprecationWarning)\n"
     ]
    }
   ],
   "source": [
    "from sklearn.preprocessing import Imputer\n",
    "\n",
    "imputer=Imputer(missing_values='NaN',strategy='mean')\n",
    "\n",
    "imputer.fit(X[:,0:])\n",
    "X[:,0:]=imputer.transform(X[:,0:])"
   ]
  },
  {
   "cell_type": "code",
   "execution_count": 22,
   "metadata": {},
   "outputs": [
    {
     "data": {
      "text/plain": [
       "array([51.25184211, 25.51256757, 36.23674074,  6.8194898 , 17.44934211,\n",
       "       16.44549451, 56.36793103, 18.26013699, 51.26800712, 19.01899083,\n",
       "       15.01960526, 28.97796748, 10.6145    , 12.63068627, 12.78233333,\n",
       "       21.21522727, 32.84077586, 26.52180451, 45.90470297, 31.18263538,\n",
       "       24.06709677, 26.6223494 , 32.55375   , 35.65955446, 38.33263158,\n",
       "       48.04120219, 11.72628571, 15.11536585, 17.57434783, 31.85198347,\n",
       "       36.61709677, 26.18916667, 54.07201465, 31.92946667, 26.1172093 ,\n",
       "       56.7790681 , 42.90032258, 23.96363636, 24.51837209, 43.076     ,\n",
       "       26.33868966, 16.35026667, 23.10220588, 35.80576923, 33.27902256,\n",
       "       28.82951923, 51.96236364, 12.9724    , 25.78267857, 20.22268041,\n",
       "       12.79178571, 36.22961165, 27.6034375 , 21.4372449 , 52.06289474,\n",
       "       23.98228261, 21.58428571, 17.43147059, 26.59884058, 54.17789216,\n",
       "       15.52103175, 12.56696429, 27.27389474, 14.35694215, 11.48576087,\n",
       "       37.69670732, 13.2664    , 25.16229008, 65.43183206, 18.55955752,\n",
       "       28.63108571, 23.20234568, 17.47211538, 36.31175182, 32.59588   ,\n",
       "       39.15469274,  8.81473684, 52.96980392, 41.33769547, 16.28517007,\n",
       "       18.86362385,  4.39538462, 56.03654762, 43.8278481 , 37.05566265,\n",
       "       31.4421134 , 15.68936709, 34.524     , 37.31611111, 27.31762626,\n",
       "       40.46609137, 29.06040268, 27.21009615, 26.80841026, 27.17166667,\n",
       "       30.88025   , 24.34435644, 46.78269231, 41.75704762, 29.34902439,\n",
       "       19.50511765, 14.72248366, 13.55205263, 21.70075   , 53.9811828 ,\n",
       "       31.91416244, 26.94746114, 22.84981132, 27.3638    , 14.6556    ,\n",
       "       36.9344    , 21.9148731 , 24.87879167, 15.3279661 ])"
      ]
     },
     "execution_count": 22,
     "metadata": {},
     "output_type": "execute_result"
    }
   ],
   "source": [
    "X_train, X_test, y_train, y_test= train_test_split(X,y,test_size=0.2,random_state=1)\n",
    "\n",
    "y_test"
   ]
  },
  {
   "cell_type": "code",
   "execution_count": 23,
   "metadata": {},
   "outputs": [
    {
     "name": "stdout",
     "output_type": "stream",
     "text": [
      "[LibLinear]"
     ]
    },
    {
     "name": "stderr",
     "output_type": "stream",
     "text": [
      "C:\\Users\\HP\\AppData\\Roaming\\Python\\Python37\\site-packages\\sklearn\\svm\\base.py:931: ConvergenceWarning: Liblinear failed to converge, increase the number of iterations.\n",
      "  \"the number of iterations.\", ConvergenceWarning)\n"
     ]
    },
    {
     "data": {
      "text/plain": [
       "array([16.04514549, 14.50321169, 15.29773877, 14.06176377, 12.48140691,\n",
       "       15.28054958, 16.07410067, 13.24057726, 12.47099843, 16.05256375,\n",
       "       13.27260089, 14.0669623 , 13.28649381, 16.08424466, 13.28116635,\n",
       "       15.3108856 , 14.06419653, 14.03373179, 12.48586311, 14.07969658,\n",
       "       15.2707166 , 13.25728421, 14.08112016, 13.28953465, 15.31763929,\n",
       "       15.30568604, 12.50465111, 12.49363118, 14.48439645, 12.52593189,\n",
       "       14.06112049, 14.06227552, 15.2947071 , 12.50015857, 14.54137725,\n",
       "       16.06899983, 15.30171445, 12.50851083, 14.53400326, 15.31179497,\n",
       "       16.06103636, 12.5359738 , 14.06443843, 13.28105348, 16.08922263,\n",
       "       13.22135928, 14.0526731 , 15.30407504, 15.33296881, 14.07288162,\n",
       "       12.504284  , 14.06288641, 12.51333721, 15.3182596 , 16.07493342,\n",
       "       14.49383425, 14.498251  , 14.54947887, 15.28937213, 14.52144477,\n",
       "       14.06477868, 15.30456958, 12.53861939, 16.08763161, 15.30662548,\n",
       "       16.07233462, 14.48595523, 16.05662854, 16.07068838, 13.24821896,\n",
       "       15.34291151, 15.28267716, 12.47408206, 12.48136772, 15.33776205,\n",
       "       14.52668014, 13.28668297, 12.50765669, 15.3277698 , 14.06819562,\n",
       "       12.4932896 , 12.50821964, 14.52540369, 14.07910897, 14.53400326,\n",
       "       13.27260089, 13.3041009 , 14.06550762, 16.03268355, 12.54376884,\n",
       "       14.53138204, 14.56002699, 12.52987765, 14.07288162, 15.3447393 ,\n",
       "       14.04025306, 15.24103005, 12.510771  , 12.50311381, 14.52880369,\n",
       "       14.49797846, 13.26905077, 16.08364267, 13.26274545, 15.2701411 ,\n",
       "       16.09514194, 13.31550173, 13.26088349, 16.08256838, 15.29707477,\n",
       "       13.29923802, 14.52758018, 12.51319761, 12.4890714 ])"
      ]
     },
     "execution_count": 23,
     "metadata": {},
     "output_type": "execute_result"
    }
   ],
   "source": [
    "reg=LinearSVR(C=1.0,epsilon=0.2,verbose=1)\n",
    "reg.fit(X_train,y_train)\n",
    "\n",
    "y_predict=reg.predict(X_test)\n",
    "y_predict"
   ]
  },
  {
   "cell_type": "code",
   "execution_count": 42,
   "metadata": {},
   "outputs": [
    {
     "name": "stdout",
     "output_type": "stream",
     "text": [
      "-2.350011042534743\n"
     ]
    },
    {
     "data": {
      "text/plain": [
       "154.49557811619115"
      ]
     },
     "execution_count": 42,
     "metadata": {},
     "output_type": "execute_result"
    }
   ],
   "source": [
    "scores=reg.score(X,y)\n",
    "print(scores)\n",
    "#scores=scores*100\n",
    "#print(\"Accuracy Score is: %.2f%%\" % scores)\n",
    "np.mean((y_predict-y_test)**2)"
   ]
  },
  {
   "cell_type": "code",
   "execution_count": 8,
   "metadata": {},
   "outputs": [
    {
     "name": "stdout",
     "output_type": "stream",
     "text": [
      "Enter the From x value-80.03905685\n",
      "Enter the From y value40.4358185\n",
      "Enter the to x value-80.04081546\n",
      "Enter the to y value40.40332719\n",
      "Enter the time8\n",
      "Enter the whether it is weekday or not (1 or 0)1\n",
      "[LibSVM]"
     ]
    },
    {
     "data": {
      "text/plain": [
       "array([26.34803018])"
      ]
     },
     "execution_count": 8,
     "metadata": {},
     "output_type": "execute_result"
    }
   ],
   "source": [
    "x_from=float(input('Enter the From x value'))\n",
    "y_from=float(input('Enter the From y value'))\n",
    "x_to=float(input('Enter the to x value'))\n",
    "y_to=float(input('Enter the to y value'))\n",
    "time=float(input('Enter the time'))\n",
    "is_weekday=float(input('Enter the whether it is weekday or not (1 or 0)'))\n",
    "x_test1=[]\n",
    "x_test1.append(x_from)\n",
    "x_test1.append(y_from)\n",
    "x_test1.append(x_to)\n",
    "x_test1.append(y_to)\n",
    "x_test1.append(time)\n",
    "x_test1.append(is_weekday)\n",
    "\n",
    "#x=np.array(x_test1)\n",
    "#x.reshape(1,-1)\n",
    "reg=LinearSVR(C=1.0,epsilon=0.2,verbose=1)\n",
    "reg.fit(X_train,y_train)\n",
    "\n",
    "y_predict1=reg.predict([x_test1])\n",
    "y_predict1"
   ]
  },
  {
   "cell_type": "code",
   "execution_count": null,
   "metadata": {},
   "outputs": [],
   "source": []
  },
  {
   "cell_type": "code",
   "execution_count": 1,
   "metadata": {},
   "outputs": [],
   "source": [
    "#prediction using pred.csv dataset\n",
    "\n",
    "import pandas as pd\n",
    "import numpy as np\n",
    "import matplotlib.pyplot as plt\n",
    "import sklearn\n",
    "from sklearn.svm import LinearSVR\n",
    "from sklearn.model_selection import train_test_split\n",
    "\n",
    "data=pd.read_csv('pgh_pred.csv')\n",
    "\n",
    "X=data.iloc[1:,:-1].values\n",
    "y=data.iloc[1:,-1].values # speed (Observed average speed over the segment at that time)\n",
    "#X\n",
    "#y"
   ]
  },
  {
   "cell_type": "code",
   "execution_count": 2,
   "metadata": {},
   "outputs": [
    {
     "name": "stderr",
     "output_type": "stream",
     "text": [
      "C:\\Users\\HP\\AppData\\Roaming\\Python\\Python37\\site-packages\\sklearn\\utils\\deprecation.py:58: DeprecationWarning: Class Imputer is deprecated; Imputer was deprecated in version 0.20 and will be removed in 0.22. Import impute.SimpleImputer from sklearn instead.\n",
      "  warnings.warn(msg, category=DeprecationWarning)\n"
     ]
    }
   ],
   "source": [
    "from sklearn.preprocessing import Imputer\n",
    "\n",
    "imputer=Imputer(missing_values='NaN',strategy='mean')\n",
    "\n",
    "imputer.fit(X[:,0:])\n",
    "X[:,0:]=imputer.transform(X[:,0:])"
   ]
  },
  {
   "cell_type": "code",
   "execution_count": 3,
   "metadata": {},
   "outputs": [
    {
     "data": {
      "text/plain": [
       "array([18.88613877, 28.67356775, 33.94060031, ..., 19.75548676,\n",
       "       17.91711416, 26.46032615])"
      ]
     },
     "execution_count": 3,
     "metadata": {},
     "output_type": "execute_result"
    }
   ],
   "source": [
    "X_train, X_test, y_train, y_test= train_test_split(X,y,test_size=0.2,random_state=1)\n",
    "y_test"
   ]
  },
  {
   "cell_type": "code",
   "execution_count": 4,
   "metadata": {},
   "outputs": [
    {
     "name": "stdout",
     "output_type": "stream",
     "text": [
      "[LibLinear]"
     ]
    },
    {
     "name": "stderr",
     "output_type": "stream",
     "text": [
      "C:\\Users\\HP\\AppData\\Roaming\\Python\\Python37\\site-packages\\sklearn\\svm\\base.py:931: ConvergenceWarning: Liblinear failed to converge, increase the number of iterations.\n",
      "  \"the number of iterations.\", ConvergenceWarning)\n"
     ]
    },
    {
     "data": {
      "text/plain": [
       "array([23.22125723, 25.44745445, 24.33435584, ..., 19.20210632,\n",
       "       19.20210632, 21.38101964])"
      ]
     },
     "execution_count": 4,
     "metadata": {},
     "output_type": "execute_result"
    }
   ],
   "source": [
    "reg=LinearSVR(C=1.0,epsilon=0.2,verbose=1)\n",
    "reg.fit(X_train,y_train)\n",
    "\n",
    "y_predict=reg.predict(X_test)\n",
    "y_predict"
   ]
  },
  {
   "cell_type": "code",
   "execution_count": 5,
   "metadata": {},
   "outputs": [
    {
     "data": {
      "text/plain": [
       "63.973943730273525"
      ]
     },
     "execution_count": 5,
     "metadata": {},
     "output_type": "execute_result"
    }
   ],
   "source": [
    "np.mean((y_predict-y_test)**2)"
   ]
  },
  {
   "cell_type": "code",
   "execution_count": 6,
   "metadata": {},
   "outputs": [
    {
     "name": "stdout",
     "output_type": "stream",
     "text": [
      "Enter the time8\n",
      "Enter whether it is weekday or not (1 or 0)1\n",
      "Enter the from x value-79.86663\n",
      "Enter the from y value40.452687\n",
      "Enter the to x value-79.866439\n",
      "Enter the to y value40.45279\n",
      "[LibLinear]The Traffic speed is 31.721851\n"
     ]
    },
    {
     "name": "stderr",
     "output_type": "stream",
     "text": [
      "C:\\Users\\HP\\AppData\\Roaming\\Python\\Python37\\site-packages\\sklearn\\svm\\base.py:931: ConvergenceWarning: Liblinear failed to converge, increase the number of iterations.\n",
      "  \"the number of iterations.\", ConvergenceWarning)\n"
     ]
    }
   ],
   "source": [
    "time=float(input('Enter the time'))\n",
    "is_weekday=float(input('Enter whether it is weekday or not (1 or 0)'))\n",
    "x_from=float(input('Enter the from x value'))\n",
    "y_from=float(input('Enter the from y value'))\n",
    "x_to=float(input('Enter the to x value'))\n",
    "y_to=float(input('Enter the to y value'))\n",
    "x_test1=[]\n",
    "x_test1.append(time)\n",
    "x_test1.append(is_weekday)\n",
    "x_test1.append(x_from)\n",
    "x_test1.append(y_from)\n",
    "x_test1.append(x_to)\n",
    "x_test1.append(y_to)\n",
    "\n",
    "#x=np.array(x_test1)\n",
    "#x.reshape(1,-1)\n",
    "reg=LinearSVR(C=1.0,epsilon=0.2,verbose=1)\n",
    "reg.fit(X_train,y_train)\n",
    "\n",
    "y_predict1=reg.predict([x_test1])\n",
    "#y_predict1\n",
    "print(\"The Traffic speed is %f\"%(y_predict1))"
   ]
  },
  {
   "cell_type": "code",
   "execution_count": null,
   "metadata": {},
   "outputs": [],
   "source": []
  }
 ],
 "metadata": {
  "kernelspec": {
   "display_name": "Python 3",
   "language": "python",
   "name": "python3"
  },
  "language_info": {
   "codemirror_mode": {
    "name": "ipython",
    "version": 3
   },
   "file_extension": ".py",
   "mimetype": "text/x-python",
   "name": "python",
   "nbconvert_exporter": "python",
   "pygments_lexer": "ipython3",
   "version": "3.7.2"
  }
 },
 "nbformat": 4,
 "nbformat_minor": 2
}
