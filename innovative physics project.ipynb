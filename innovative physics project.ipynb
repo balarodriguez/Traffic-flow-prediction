{
 "cells": [
  {
   "cell_type": "code",
   "execution_count": 3,
   "metadata": {},
   "outputs": [],
   "source": [
    "import pandas as pd\n",
    "import numpy as np\n",
    "import matplotlib.pyplot as plt\n",
    "import sklearn\n",
    "from sklearn.linear_model import LinearRegression\n",
    "from sklearn.model_selection import train_test_split\n"
   ]
  },
  {
   "cell_type": "code",
   "execution_count": 4,
   "metadata": {},
   "outputs": [],
   "source": [
    "data=pd.read_csv('pgh_train.csv')"
   ]
  },
  {
   "cell_type": "code",
   "execution_count": 5,
   "metadata": {},
   "outputs": [],
   "source": [
    "#print(data)"
   ]
  },
  {
   "cell_type": "code",
   "execution_count": 6,
   "metadata": {},
   "outputs": [],
   "source": [
    "X=data.iloc[:,[0,1,2,3,5,6]].values\n",
    "y=data.iloc[:,4].values # speed (Observed average speed over the segment at that time)\n",
    "#X\n",
    "#Y"
   ]
  },
  {
   "cell_type": "code",
   "execution_count": 7,
   "metadata": {},
   "outputs": [
    {
     "name": "stderr",
     "output_type": "stream",
     "text": [
      "C:\\Users\\HP\\AppData\\Roaming\\Python\\Python37\\site-packages\\sklearn\\utils\\deprecation.py:58: DeprecationWarning: Class Imputer is deprecated; Imputer was deprecated in version 0.20 and will be removed in 0.22. Import impute.SimpleImputer from sklearn instead.\n",
      "  warnings.warn(msg, category=DeprecationWarning)\n"
     ]
    }
   ],
   "source": [
    "from sklearn.preprocessing import Imputer\n",
    "\n",
    "imputer=Imputer(missing_values='NaN',strategy='mean')\n",
    "\n",
    "imputer.fit(X[:,0:])\n",
    "X[:,0:]=imputer.transform(X[:,0:])"
   ]
  },
  {
   "cell_type": "code",
   "execution_count": 8,
   "metadata": {},
   "outputs": [],
   "source": [
    "#X"
   ]
  },
  {
   "cell_type": "code",
   "execution_count": 9,
   "metadata": {},
   "outputs": [
    {
     "data": {
      "text/plain": [
       "array([51.25184211, 25.51256757, 36.23674074,  6.8194898 , 17.44934211,\n",
       "       16.44549451, 56.36793103, 18.26013699, 51.26800712, 19.01899083,\n",
       "       15.01960526, 28.97796748, 10.6145    , 12.63068627, 12.78233333,\n",
       "       21.21522727, 32.84077586, 26.52180451, 45.90470297, 31.18263538,\n",
       "       24.06709677, 26.6223494 , 32.55375   , 35.65955446, 38.33263158,\n",
       "       48.04120219, 11.72628571, 15.11536585, 17.57434783, 31.85198347,\n",
       "       36.61709677, 26.18916667, 54.07201465, 31.92946667, 26.1172093 ,\n",
       "       56.7790681 , 42.90032258, 23.96363636, 24.51837209, 43.076     ,\n",
       "       26.33868966, 16.35026667, 23.10220588, 35.80576923, 33.27902256,\n",
       "       28.82951923, 51.96236364, 12.9724    , 25.78267857, 20.22268041,\n",
       "       12.79178571, 36.22961165, 27.6034375 , 21.4372449 , 52.06289474,\n",
       "       23.98228261, 21.58428571, 17.43147059, 26.59884058, 54.17789216,\n",
       "       15.52103175, 12.56696429, 27.27389474, 14.35694215, 11.48576087,\n",
       "       37.69670732, 13.2664    , 25.16229008, 65.43183206, 18.55955752,\n",
       "       28.63108571, 23.20234568, 17.47211538, 36.31175182, 32.59588   ,\n",
       "       39.15469274,  8.81473684, 52.96980392, 41.33769547, 16.28517007,\n",
       "       18.86362385,  4.39538462, 56.03654762, 43.8278481 , 37.05566265,\n",
       "       31.4421134 , 15.68936709, 34.524     , 37.31611111, 27.31762626,\n",
       "       40.46609137, 29.06040268, 27.21009615, 26.80841026, 27.17166667,\n",
       "       30.88025   , 24.34435644, 46.78269231, 41.75704762, 29.34902439,\n",
       "       19.50511765, 14.72248366, 13.55205263, 21.70075   , 53.9811828 ,\n",
       "       31.91416244, 26.94746114, 22.84981132, 27.3638    , 14.6556    ,\n",
       "       36.9344    , 21.9148731 , 24.87879167, 15.3279661 ])"
      ]
     },
     "execution_count": 9,
     "metadata": {},
     "output_type": "execute_result"
    }
   ],
   "source": [
    "X_train, X_test, y_train, y_test= train_test_split(X,y,test_size=0.2,random_state=1)\n",
    "\n",
    "#X_test\n",
    "y_test"
   ]
  },
  {
   "cell_type": "code",
   "execution_count": 10,
   "metadata": {},
   "outputs": [
    {
     "data": {
      "text/plain": [
       "array([25.89894253, 24.61878236, 33.67080022, 29.15629068, 28.1301614 ,\n",
       "       30.16616165, 31.1374674 , 25.92716829, 22.87981823, 30.61645953,\n",
       "       27.12611465, 36.12131941, 27.18079283, 30.62785314, 36.31251901,\n",
       "       30.0510154 , 30.56145281, 28.62526622, 19.35722677, 31.19856259,\n",
       "       26.90091661, 29.07637343, 29.07968436, 34.11437912, 30.50587907,\n",
       "       31.4618342 , 26.8265317 , 25.79872144, 27.47044473, 29.89258942,\n",
       "       26.85194235, 29.32404909, 30.00910439, 24.17929366, 34.42227249,\n",
       "       28.89290063, 30.71054423, 28.01807592, 29.39802881, 35.49739279,\n",
       "       30.4560863 , 21.58132956, 29.51716243, 26.99512228, 37.50433309,\n",
       "       25.12718877, 32.40009312, 25.75210447, 32.63475793, 34.34523199,\n",
       "       35.65953242, 27.54235587, 27.64598257, 35.07525907, 33.7831068 ,\n",
       "       26.24793003, 27.10391375, 29.78268881, 32.74128355, 30.41140681,\n",
       "       29.19969657, 30.99365709, 23.89972607, 31.70551332, 32.17283342,\n",
       "       32.32952003, 26.65719538, 29.55513139, 59.18980696, 25.44664807,\n",
       "       25.27490474, 24.55721427, 25.03162305, 33.84169275, 25.93572632,\n",
       "       22.89780882, 28.35386847, 23.2629179 , 30.37865618, 35.61177744,\n",
       "       26.01275162, 27.9388663 , 30.62786911, 29.4264056 , 29.39802881,\n",
       "       27.12611465, 29.05266172, 29.32098831, 29.4394345 , 23.23890448,\n",
       "       27.61939638, 24.66399418, 23.18477684, 34.34523199, 27.69771793,\n",
       "       34.57592456, 44.83461934, 30.08949658, 26.58038741, 30.80884761,\n",
       "       29.09705283, 26.21669282, 30.62145695, 20.01021335, 24.91581849,\n",
       "       35.72824566, 24.55271265, 22.97062197, 32.11482078, 30.07651492,\n",
       "       24.24154512, 28.49848786, 34.81534625, 26.47960204])"
      ]
     },
     "execution_count": 10,
     "metadata": {},
     "output_type": "execute_result"
    }
   ],
   "source": [
    "reg=LinearRegression()\n",
    "reg.fit(X_train,y_train)\n",
    "\n",
    "y_predict=reg.predict(X_test)\n",
    "y_predict"
   ]
  },
  {
   "cell_type": "code",
   "execution_count": 11,
   "metadata": {},
   "outputs": [],
   "source": [
    "#plt.scatter(X_train,y_train,color=\"red\")\n",
    "#plt.plot(X_train,reg.predict(X_train))\n",
    "#plt.show()"
   ]
  },
  {
   "cell_type": "code",
   "execution_count": 13,
   "metadata": {},
   "outputs": [
    {
     "data": {
      "text/plain": [
       "171.82987494047885"
      ]
     },
     "execution_count": 13,
     "metadata": {},
     "output_type": "execute_result"
    }
   ],
   "source": [
    "np.mean((y_predict-y_test)**2)"
   ]
  },
  {
   "cell_type": "code",
   "execution_count": 115,
   "metadata": {},
   "outputs": [
    {
     "name": "stdout",
     "output_type": "stream",
     "text": [
      "Enter the From x value-79.99836282672929\t\n",
      "Enter the From y value40.4370636187516\t\n",
      "Enter the to x value-79.9951103950099\t\n",
      "Enter the to y value40.4359318661507\n",
      "Enter the time14\n",
      "Enter the whether it is weekday or not (1 or 0)1\n"
     ]
    },
    {
     "data": {
      "text/plain": [
       "array([30.1261016])"
      ]
     },
     "execution_count": 115,
     "metadata": {},
     "output_type": "execute_result"
    }
   ],
   "source": [
    "x_from=float(input('Enter the From x value'))\n",
    "y_from=float(input('Enter the From y value'))\n",
    "x_to=float(input('Enter the to x value'))\n",
    "y_to=float(input('Enter the to y value'))\n",
    "time=float(input('Enter the time'))\n",
    "is_weekday=float(input('Enter the whether it is weekday or not (1 or 0)'))\n",
    "x_test1=[]\n",
    "x_test1.append(x_from)\n",
    "x_test1.append(y_from)\n",
    "x_test1.append(x_to)\n",
    "x_test1.append(y_to)\n",
    "x_test1.append(time)\n",
    "x_test1.append(is_weekday)\n",
    "\n",
    "#x=np.array(x_test1)\n",
    "#x.reshape(1,-1)\n",
    "reg=LinearRegression()\n",
    "reg.fit(X_train,y_train)\n",
    "\n",
    "y_predict1=reg.predict([x_test1])\n",
    "y_predict1"
   ]
  },
  {
   "cell_type": "code",
   "execution_count": 1,
   "metadata": {},
   "outputs": [],
   "source": [
    "#prediction using pred.csv dataset\n",
    "\n",
    "import pandas as pd\n",
    "import numpy as np\n",
    "import matplotlib.pyplot as plt\n",
    "import sklearn\n",
    "from sklearn.linear_model import LinearRegression\n",
    "from sklearn.model_selection import train_test_split\n",
    "\n",
    "data=pd.read_csv('pgh_pred.csv')\n",
    "\n",
    "X=data.iloc[1:,:-1].values\n",
    "y=data.iloc[1:,-1].values # speed (Observed average speed over the segment at that time)\n",
    "#X\n",
    "#y"
   ]
  },
  {
   "cell_type": "code",
   "execution_count": 2,
   "metadata": {},
   "outputs": [
    {
     "name": "stderr",
     "output_type": "stream",
     "text": [
      "C:\\Users\\HP\\AppData\\Roaming\\Python\\Python37\\site-packages\\sklearn\\utils\\deprecation.py:58: DeprecationWarning: Class Imputer is deprecated; Imputer was deprecated in version 0.20 and will be removed in 0.22. Import impute.SimpleImputer from sklearn instead.\n",
      "  warnings.warn(msg, category=DeprecationWarning)\n"
     ]
    }
   ],
   "source": [
    "from sklearn.preprocessing import Imputer\n",
    "\n",
    "imputer=Imputer(missing_values='NaN',strategy='mean')\n",
    "\n",
    "imputer.fit(X[:,0:])\n",
    "X[:,0:]=imputer.transform(X[:,0:])"
   ]
  },
  {
   "cell_type": "code",
   "execution_count": 3,
   "metadata": {},
   "outputs": [],
   "source": [
    "X_train, X_test, y_train, y_test= train_test_split(X,y,test_size=0.2,random_state=1)\n",
    "\n",
    "#X_test\n",
    "#y_test\n",
    "#X_train[1][0]\n",
    "#len(X_train)\n"
   ]
  },
  {
   "cell_type": "code",
   "execution_count": 4,
   "metadata": {},
   "outputs": [
    {
     "data": {
      "text/plain": [
       "array([28.31424022, 29.8138525 , 29.06404636, ..., 24.24327381,\n",
       "       24.24327381, 24.56953043])"
      ]
     },
     "execution_count": 4,
     "metadata": {},
     "output_type": "execute_result"
    }
   ],
   "source": [
    "reg=LinearRegression()\n",
    "reg.fit(X_train,y_train)\n",
    "\n",
    "y_predict=reg.predict(X_test)\n",
    "y_predict"
   ]
  },
  {
   "cell_type": "code",
   "execution_count": 5,
   "metadata": {},
   "outputs": [
    {
     "data": {
      "text/plain": [
       "41.60566105035708"
      ]
     },
     "execution_count": 5,
     "metadata": {},
     "output_type": "execute_result"
    }
   ],
   "source": [
    "np.mean((y_predict-y_test)**2)"
   ]
  },
  {
   "cell_type": "code",
   "execution_count": 10,
   "metadata": {},
   "outputs": [
    {
     "name": "stdout",
     "output_type": "stream",
     "text": [
      "Enter the time8\n",
      "Enter whether it is weekday or not (1 or 0)1\n",
      "Enter the from x value-79.86663\n",
      "Enter the from y value40.452687\n",
      "Enter the to x value-79.866439\n",
      "Enter the to y value40.45279\n",
      "The Traffic speed is 26.992657\n"
     ]
    }
   ],
   "source": [
    "time=float(input('Enter the time'))\n",
    "is_weekday=float(input('Enter whether it is weekday or not (1 or 0)'))\n",
    "x_from=float(input('Enter the from x value'))\n",
    "y_from=float(input('Enter the from y value'))\n",
    "x_to=float(input('Enter the to x value'))\n",
    "y_to=float(input('Enter the to y value'))\n",
    "x_test1=[]\n",
    "x_test1.append(time)\n",
    "x_test1.append(is_weekday)\n",
    "x_test1.append(x_from)\n",
    "x_test1.append(y_from)\n",
    "x_test1.append(x_to)\n",
    "x_test1.append(y_to)\n",
    "\n",
    "#x=np.array(x_test1)\n",
    "#x.reshape(1,-1)\n",
    "reg=LinearRegression()\n",
    "reg.fit(X_train,y_train)\n",
    "\n",
    "y_predict1=reg.predict([x_test1])\n",
    "#y_predict1\n",
    "print(\"The Traffic speed is %f\"%(y_predict1))"
   ]
  },
  {
   "cell_type": "code",
   "execution_count": 47,
   "metadata": {},
   "outputs": [
    {
     "data": {
      "text/plain": [
       "\"\\nprint(len(y_train))\\ntime_train=[]\\nnew_y_train=[]\\nfor i in range(len(X_train)):\\n    time_train.append(X_train[i][0])\\n    new_y_train.append(y_train[i])\\n#print(new_y_train)\\nplt.scatter(list(time_train),list(new_y_train),color='red')\\nplt.plot(list(time_train),reg.predict([time_train]))\\nplt.show()\\n\""
      ]
     },
     "execution_count": 47,
     "metadata": {},
     "output_type": "execute_result"
    }
   ],
   "source": [
    "#time_train=data.iloc[1:,0].values\n",
    "\"\"\"\n",
    "print(len(y_train))\n",
    "time_train=[]\n",
    "new_y_train=[]\n",
    "for i in range(len(X_train)):\n",
    "    time_train.append(X_train[i][0])\n",
    "    new_y_train.append(y_train[i])\n",
    "#print(new_y_train)\n",
    "plt.scatter(list(time_train),list(new_y_train),color='red')\n",
    "plt.plot(list(time_train),reg.predict([time_train]))\n",
    "plt.show()\n",
    "\"\"\"\n"
   ]
  },
  {
   "cell_type": "code",
   "execution_count": null,
   "metadata": {},
   "outputs": [],
   "source": []
  }
 ],
 "metadata": {
  "kernelspec": {
   "display_name": "Python 3",
   "language": "python",
   "name": "python3"
  },
  "language_info": {
   "codemirror_mode": {
    "name": "ipython",
    "version": 3
   },
   "file_extension": ".py",
   "mimetype": "text/x-python",
   "name": "python",
   "nbconvert_exporter": "python",
   "pygments_lexer": "ipython3",
   "version": "3.7.2"
  }
 },
 "nbformat": 4,
 "nbformat_minor": 2
}
